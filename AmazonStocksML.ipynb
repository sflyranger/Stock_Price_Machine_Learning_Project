{
 "cells": [
  {
   "cell_type": "code",
   "execution_count": 28,
   "id": "e4cad909",
   "metadata": {},
   "outputs": [
    {
     "name": "stdout",
     "output_type": "stream",
     "text": [
      "Requirement already satisfied: requests in ./anaconda3/lib/python3.11/site-packages (2.31.0)\n",
      "Requirement already satisfied: charset-normalizer<4,>=2 in ./anaconda3/lib/python3.11/site-packages (from requests) (2.0.4)\n",
      "Requirement already satisfied: idna<4,>=2.5 in ./anaconda3/lib/python3.11/site-packages (from requests) (3.4)\n",
      "Requirement already satisfied: urllib3<3,>=1.21.1 in ./anaconda3/lib/python3.11/site-packages (from requests) (1.26.16)\n",
      "Requirement already satisfied: certifi>=2017.4.17 in ./anaconda3/lib/python3.11/site-packages (from requests) (2023.11.17)\n",
      "Note: you may need to restart the kernel to use updated packages.\n"
     ]
    }
   ],
   "source": [
    "pip install requests\n"
   ]
  },
  {
   "cell_type": "code",
   "execution_count": 29,
   "id": "53157246",
   "metadata": {},
   "outputs": [
    {
     "name": "stderr",
     "output_type": "stream",
     "text": [
      "[*********************100%%**********************]  1 of 1 completed"
     ]
    },
    {
     "name": "stdout",
     "output_type": "stream",
     "text": [
      "Data saved to AMZN_hourly_stock_data.csv\n"
     ]
    },
    {
     "name": "stderr",
     "output_type": "stream",
     "text": [
      "\n"
     ]
    }
   ],
   "source": [
    "import pandas as pd\n",
    "import yfinance as yf\n",
    "from datetime import datetime, timedelta\n",
    "\n",
    "# Set stock symbol and date range\n",
    "STOCK_SYMBOL = 'AMZN'\n",
    "END_DATE = datetime.now()\n",
    "START_DATE = END_DATE - timedelta(days=365)\n",
    "\n",
    "# Download historical data\n",
    "df = yf.download(tickers=STOCK_SYMBOL, start=START_DATE, end=END_DATE, interval='1h')\n",
    "\n",
    "# Save data to CSV\n",
    "if not df.empty:\n",
    "    df.to_csv(f'/Users/christinadarsi/Downloads/{STOCK_SYMBOL}_hourly_stock_datayf.csv')\n",
    "    print(f'Data saved to {STOCK_SYMBOL}_hourly_stock_data.csv')\n",
    "else:\n",
    "    print(\"Failed to fetch data or no data available for the specified range\")\n"
   ]
  },
  {
   "cell_type": "code",
   "execution_count": 30,
   "id": "7e21d81a",
   "metadata": {},
   "outputs": [
    {
     "name": "stderr",
     "output_type": "stream",
     "text": [
      "[*********************100%%**********************]  1 of 1 completed\n"
     ]
    },
    {
     "name": "stdout",
     "output_type": "stream",
     "text": [
      "Data saved to AMZN_hourly_stock_data.csv\n"
     ]
    },
    {
     "name": "stderr",
     "output_type": "stream",
     "text": [
      "[*********************100%%**********************]  1 of 1 completed\n",
      "[*********************100%%**********************]  1 of 1 completed\n",
      "[*********************100%%**********************]  1 of 1 completed\n",
      "[*********************100%%**********************]  1 of 1 completed\n",
      "[*********************100%%**********************]  1 of 1 completed\n",
      "[*********************100%%**********************]  1 of 1 completed"
     ]
    },
    {
     "name": "stdout",
     "output_type": "stream",
     "text": [
      "Merged data saved to /Users/christinadarsi/Downloads/merged_stock_data.csv\n"
     ]
    },
    {
     "name": "stderr",
     "output_type": "stream",
     "text": [
      "\n"
     ]
    }
   ],
   "source": [
    "import pandas as pd\n",
    "import yfinance as yf\n",
    "from datetime import datetime, timedelta\n",
    "\n",
    "# Set stock symbol and date range for Amazon (AMZN)\n",
    "STOCK_SYMBOL = 'AMZN'\n",
    "END_DATE = datetime.now()\n",
    "START_DATE = END_DATE - timedelta(days=365)\n",
    "\n",
    "# Download historical data for Amazon\n",
    "df_amzn = yf.download(tickers=STOCK_SYMBOL, start=START_DATE, end=END_DATE, interval='1h')\n",
    "\n",
    "# Save Amazon data to CSV\n",
    "amzn_csv_path = f'/Users/christinadarsi/Downloads/{STOCK_SYMBOL}_hourly_stock_data.csv'\n",
    "if not df_amzn.empty:\n",
    "    df_amzn.to_csv(amzn_csv_path)\n",
    "    print(f'Data saved to {STOCK_SYMBOL}_hourly_stock_data.csv')\n",
    "else:\n",
    "    print(\"Failed to fetch data or no data available for Amazon\")\n",
    "\n",
    "# List of additional stock symbols\n",
    "additional_symbols = ['AAPL', 'MSFT', 'GOOGL', 'META', 'WMT', 'BABA']\n",
    "dfs = [df_amzn[['Close']].rename(columns={'Close': 'AMZN'})]  # Include Amazon data\n",
    "\n",
    "# Function to download and process stock data\n",
    "def download_and_process_data(symbol, start_date, end_date, interval='1h'):\n",
    "    df = yf.download(tickers=symbol, start=start_date, end=end_date, interval=interval)\n",
    "    if not df.empty:\n",
    "        df = df[['Close']].rename(columns={'Close': symbol})\n",
    "        return df\n",
    "    else:\n",
    "        print(f\"Failed to fetch data or no data available for {symbol}\")\n",
    "        return None\n",
    "\n",
    "# Download data for each additional symbol\n",
    "for symbol in additional_symbols:\n",
    "    df = download_and_process_data(symbol, START_DATE, END_DATE)\n",
    "    if df is not None:\n",
    "        dfs.append(df)\n",
    "\n",
    "# Merge all dataframes on the Datetime index\n",
    "merged_df = pd.concat(dfs, axis=1)\n",
    "\n",
    "# Save the merged dataframe to CSV\n",
    "merged_csv_path = f'/Users/christinadarsi/Downloads/merged_stock_data.csv'\n",
    "merged_df.to_csv(merged_csv_path)\n",
    "print(f\"Merged data saved to {merged_csv_path}\")\n"
   ]
  },
  {
   "cell_type": "code",
   "execution_count": 31,
   "id": "47be6cab",
   "metadata": {},
   "outputs": [
    {
     "name": "stderr",
     "output_type": "stream",
     "text": [
      "[*********************100%%**********************]  1 of 1 completed\n",
      "[*********************100%%**********************]  1 of 1 completed\n"
     ]
    },
    {
     "name": "stdout",
     "output_type": "stream",
     "text": [
      "Data saved to AMZN_hourly_stock_data.csv\n"
     ]
    },
    {
     "name": "stderr",
     "output_type": "stream",
     "text": [
      "[*********************100%%**********************]  1 of 1 completed\n",
      "[*********************100%%**********************]  1 of 1 completed\n",
      "[*********************100%%**********************]  1 of 1 completed\n",
      "[*********************100%%**********************]  1 of 1 completed\n",
      "[*********************100%%**********************]  1 of 1 completed\n"
     ]
    },
    {
     "name": "stdout",
     "output_type": "stream",
     "text": [
      "Merged data with technical and economic indicators saved to /Users/christinadarsi/Downloads/merged_stock_data_with_indicators_and_economics.csv\n"
     ]
    }
   ],
   "source": [
    "import pandas as pd\n",
    "import yfinance as yf\n",
    "from datetime import datetime, timedelta\n",
    "import pandas_ta as ta\n",
    "from fredapi import Fred\n",
    "\n",
    "# Set stock symbol and date range for Amazon (AMZN)\n",
    "STOCK_SYMBOL = 'AMZN'\n",
    "END_DATE = datetime.now()\n",
    "START_DATE = END_DATE - timedelta(days=365)\n",
    "\n",
    "# FRED API key (replace 'YOUR_FRED_API_KEY' with your actual FRED API key)\n",
    "FRED_API_KEY = '8e5b4a4f782c5344fb639a9108172491'\n",
    "\n",
    "# Download historical data for Amazon\n",
    "df_amzn = yf.download(tickers=STOCK_SYMBOL, start=START_DATE, end=END_DATE, interval='1h')\n",
    "\n",
    "# Save Amazon data to CSV\n",
    "amzn_csv_path = f'/Users/christinadarsi/Downloads/{STOCK_SYMBOL}_hourly_stock_data.csv'\n",
    "if not df_amzn.empty:\n",
    "    df_amzn.to_csv(amzn_csv_path)\n",
    "    print(f'Data saved to {STOCK_SYMBOL}_hourly_stock_data.csv')\n",
    "else:\n",
    "    print(\"Failed to fetch data or no data available for Amazon\")\n",
    "\n",
    "# List of additional stock symbols\n",
    "additional_symbols = ['AAPL', 'MSFT', 'GOOGL', 'META', 'WMT', 'BABA']\n",
    "close_dfs = []\n",
    "\n",
    "# Function to download and process stock data\n",
    "def download_and_process_data(symbol, start_date, end_date, interval='1h'):\n",
    "    df = yf.download(tickers=symbol, start=start_date, end=end_date, interval=interval)\n",
    "    if not df.empty:\n",
    "        df = df[['Close']].rename(columns={'Close': symbol})\n",
    "        return df\n",
    "    else:\n",
    "        print(f\"Failed to fetch data or no data available for {symbol}\")\n",
    "        return None\n",
    "\n",
    "# Download data for each additional symbol\n",
    "for symbol in additional_symbols:\n",
    "    df = download_and_process_data(symbol, START_DATE, END_DATE)\n",
    "    if df is not None:\n",
    "        close_dfs.append(df)\n",
    "\n",
    "# Combine all close value dataframes\n",
    "if close_dfs:\n",
    "    additional_close_df = pd.concat(close_dfs, axis=1)\n",
    "\n",
    "    # Merge the Amazon data with additional close values\n",
    "    merged_df = df_amzn.join(additional_close_df, how='left')\n",
    "\n",
    "    # Calculate technical indicators\n",
    "    merged_df['SMA_20'] = ta.sma(merged_df['Close'], length=20)\n",
    "    merged_df['SMA_50'] = ta.sma(merged_df['Close'], length=50)\n",
    "    merged_df['MACD'], merged_df['MACD_Signal'], merged_df['MACD_Hist'] = ta.macd(merged_df['Close'])\n",
    "    merged_df['RSI'] = ta.rsi(merged_df['Close'])\n",
    "    bbands = ta.bbands(merged_df['Close'], length=20)\n",
    "    merged_df = merged_df.join(bbands[['BBL_20_2.0', 'BBM_20_2.0', 'BBU_20_2.0']])\n",
    "\n",
    "    # Fetch economic indicators from FRED\n",
    "    fred = Fred(api_key=FRED_API_KEY)\n",
    "\n",
    "    # Interest Rates (e.g., Federal Funds Rate)\n",
    "    interest_rate = fred.get_series('FEDFUNDS', start_date=START_DATE, end_date=END_DATE)\n",
    "    interest_rate.index = interest_rate.index.tz_localize('UTC').tz_convert('America/New_York')\n",
    "    interest_rate = interest_rate.resample('H').ffill().reindex(merged_df.index, method='ffill')\n",
    "    merged_df['Interest_Rate'] = interest_rate\n",
    "\n",
    "    # Inflation Rate (e.g., CPI)\n",
    "    inflation_rate = fred.get_series('CPIAUCSL', start_date=START_DATE, end_date=END_DATE).pct_change() * 100\n",
    "    inflation_rate.index = inflation_rate.index.tz_localize('UTC').tz_convert('America/New_York')\n",
    "    inflation_rate = inflation_rate.resample('H').ffill().reindex(merged_df.index, method='ffill')\n",
    "    merged_df['Inflation_Rate'] = inflation_rate\n",
    "\n",
    "    # GDP Growth (e.g., Real GDP)\n",
    "    gdp_growth = fred.get_series('GDPC1', start_date=START_DATE, end_date=END_DATE).pct_change() * 100\n",
    "    gdp_growth.index = gdp_growth.index.tz_localize('UTC').tz_convert('America/New_York')\n",
    "    gdp_growth = gdp_growth.resample('H').ffill().reindex(merged_df.index, method='ffill')\n",
    "    merged_df['GDP_Growth'] = gdp_growth\n",
    "\n",
    "    # Unemployment Rate\n",
    "    unemployment_rate = fred.get_series('UNRATE', start_date=START_DATE, end_date=END_DATE)\n",
    "    unemployment_rate.index = unemployment_rate.index.tz_localize('UTC').tz_convert('America/New_York')\n",
    "    unemployment_rate = unemployment_rate.resample('H').ffill().reindex(merged_df.index, method='ffill')\n",
    "    merged_df['Unemployment_Rate'] = unemployment_rate\n",
    "\n",
    "    # Save the merged dataframe with technical indicators and economic indicators to CSV\n",
    "    merged_csv_path = f'/Users/christinadarsi/Downloads/merged_stock_data_with_indicators_and_economics.csv'\n",
    "    merged_df.to_csv(merged_csv_path)\n",
    "    print(f\"Merged data with technical and economic indicators saved to {merged_csv_path}\")\n",
    "else:\n",
    "    print(\"No additional data was fetched to merge with Amazon data.\")\n"
   ]
  },
  {
   "cell_type": "code",
   "execution_count": 32,
   "id": "1e34e09a",
   "metadata": {},
   "outputs": [
    {
     "name": "stdout",
     "output_type": "stream",
     "text": [
      "Requirement already satisfied: yahoo_fin in ./anaconda3/lib/python3.11/site-packages (0.8.9.1)\n",
      "Requirement already satisfied: pandas_ta in ./anaconda3/lib/python3.11/site-packages (0.3.14b0)\n",
      "Requirement already satisfied: requests-html in ./anaconda3/lib/python3.11/site-packages (from yahoo_fin) (0.10.0)\n",
      "Requirement already satisfied: feedparser in ./anaconda3/lib/python3.11/site-packages (from yahoo_fin) (6.0.11)\n",
      "Requirement already satisfied: requests in ./anaconda3/lib/python3.11/site-packages (from yahoo_fin) (2.31.0)\n",
      "Requirement already satisfied: pandas in ./anaconda3/lib/python3.11/site-packages (from yahoo_fin) (2.0.3)\n",
      "Requirement already satisfied: sgmllib3k in ./anaconda3/lib/python3.11/site-packages (from feedparser->yahoo_fin) (1.0.0)\n",
      "Requirement already satisfied: python-dateutil>=2.8.2 in ./anaconda3/lib/python3.11/site-packages (from pandas->yahoo_fin) (2.8.2)\n",
      "Requirement already satisfied: pytz>=2020.1 in ./anaconda3/lib/python3.11/site-packages (from pandas->yahoo_fin) (2023.3.post1)\n",
      "Requirement already satisfied: tzdata>=2022.1 in ./anaconda3/lib/python3.11/site-packages (from pandas->yahoo_fin) (2023.3)\n",
      "Requirement already satisfied: numpy>=1.21.0 in ./anaconda3/lib/python3.11/site-packages (from pandas->yahoo_fin) (1.24.3)\n",
      "Requirement already satisfied: charset-normalizer<4,>=2 in ./anaconda3/lib/python3.11/site-packages (from requests->yahoo_fin) (2.0.4)\n",
      "Requirement already satisfied: idna<4,>=2.5 in ./anaconda3/lib/python3.11/site-packages (from requests->yahoo_fin) (3.4)\n",
      "Requirement already satisfied: urllib3<3,>=1.21.1 in ./anaconda3/lib/python3.11/site-packages (from requests->yahoo_fin) (1.26.16)\n",
      "Requirement already satisfied: certifi>=2017.4.17 in ./anaconda3/lib/python3.11/site-packages (from requests->yahoo_fin) (2023.11.17)\n",
      "Requirement already satisfied: pyquery in ./anaconda3/lib/python3.11/site-packages (from requests-html->yahoo_fin) (2.0.0)\n",
      "Requirement already satisfied: fake-useragent in ./anaconda3/lib/python3.11/site-packages (from requests-html->yahoo_fin) (1.5.1)\n",
      "Requirement already satisfied: parse in ./anaconda3/lib/python3.11/site-packages (from requests-html->yahoo_fin) (1.20.2)\n",
      "Requirement already satisfied: bs4 in ./anaconda3/lib/python3.11/site-packages (from requests-html->yahoo_fin) (0.0.2)\n",
      "Requirement already satisfied: w3lib in ./anaconda3/lib/python3.11/site-packages (from requests-html->yahoo_fin) (1.21.0)\n",
      "Requirement already satisfied: pyppeteer>=0.0.14 in ./anaconda3/lib/python3.11/site-packages (from requests-html->yahoo_fin) (2.0.0)\n",
      "Requirement already satisfied: appdirs<2.0.0,>=1.4.3 in ./anaconda3/lib/python3.11/site-packages (from pyppeteer>=0.0.14->requests-html->yahoo_fin) (1.4.4)\n",
      "Requirement already satisfied: importlib-metadata>=1.4 in ./anaconda3/lib/python3.11/site-packages (from pyppeteer>=0.0.14->requests-html->yahoo_fin) (6.0.0)\n",
      "Requirement already satisfied: pyee<12.0.0,>=11.0.0 in ./anaconda3/lib/python3.11/site-packages (from pyppeteer>=0.0.14->requests-html->yahoo_fin) (11.1.0)\n",
      "Requirement already satisfied: tqdm<5.0.0,>=4.42.1 in ./anaconda3/lib/python3.11/site-packages (from pyppeteer>=0.0.14->requests-html->yahoo_fin) (4.65.0)\n",
      "Requirement already satisfied: websockets<11.0,>=10.0 in ./anaconda3/lib/python3.11/site-packages (from pyppeteer>=0.0.14->requests-html->yahoo_fin) (10.4)\n",
      "Requirement already satisfied: six>=1.5 in ./anaconda3/lib/python3.11/site-packages (from python-dateutil>=2.8.2->pandas->yahoo_fin) (1.16.0)\n",
      "Requirement already satisfied: beautifulsoup4 in ./anaconda3/lib/python3.11/site-packages (from bs4->requests-html->yahoo_fin) (4.12.2)\n",
      "Requirement already satisfied: lxml>=2.1 in ./anaconda3/lib/python3.11/site-packages (from pyquery->requests-html->yahoo_fin) (4.9.3)\n",
      "Requirement already satisfied: cssselect>=1.2.0 in ./anaconda3/lib/python3.11/site-packages (from pyquery->requests-html->yahoo_fin) (1.2.0)\n",
      "Requirement already satisfied: zipp>=0.5 in ./anaconda3/lib/python3.11/site-packages (from importlib-metadata>=1.4->pyppeteer>=0.0.14->requests-html->yahoo_fin) (3.11.0)\n",
      "Requirement already satisfied: typing-extensions in ./anaconda3/lib/python3.11/site-packages (from pyee<12.0.0,>=11.0.0->pyppeteer>=0.0.14->requests-html->yahoo_fin) (4.7.1)\n",
      "Requirement already satisfied: soupsieve>1.2 in ./anaconda3/lib/python3.11/site-packages (from beautifulsoup4->bs4->requests-html->yahoo_fin) (2.4)\n"
     ]
    },
    {
     "name": "stderr",
     "output_type": "stream",
     "text": [
      "[*********************100%%**********************]  1 of 1 completed\n"
     ]
    },
    {
     "name": "stdout",
     "output_type": "stream",
     "text": [
      "Data saved to AMZN_hourly_stock_data.csv\n"
     ]
    },
    {
     "name": "stderr",
     "output_type": "stream",
     "text": [
      "[*********************100%%**********************]  1 of 1 completed\n",
      "[*********************100%%**********************]  1 of 1 completed\n",
      "[*********************100%%**********************]  1 of 1 completed\n",
      "[*********************100%%**********************]  1 of 1 completed\n",
      "[*********************100%%**********************]  1 of 1 completed\n",
      "[*********************100%%**********************]  1 of 1 completed\n"
     ]
    },
    {
     "name": "stdout",
     "output_type": "stream",
     "text": [
      "Merged data with technical, economic, and financial indicators saved to /Users/christinadarsi/Downloads/merged_stock_data_with_indicators_economics_financials.csv\n"
     ]
    }
   ],
   "source": [
    "!pip install yahoo_fin pandas_ta\n",
    "import pandas as pd\n",
    "import yfinance as yf\n",
    "from datetime import datetime, timedelta\n",
    "import pandas_ta as ta\n",
    "from fredapi import Fred\n",
    "\n",
    "# Set stock symbol and date range for Amazon (AMZN)\n",
    "STOCK_SYMBOL = 'AMZN'\n",
    "END_DATE = datetime.now()\n",
    "START_DATE = END_DATE - timedelta(days=365)\n",
    "\n",
    "# FRED API key (replace 'YOUR_FRED_API_KEY' with your actual FRED API key)\n",
    "FRED_API_KEY = '8e5b4a4f782c5344fb639a9108172491'\n",
    "\n",
    "# Download historical data for Amazon\n",
    "df_amzn = yf.download(tickers=STOCK_SYMBOL, start=START_DATE, end=END_DATE, interval='1h')\n",
    "\n",
    "# Save Amazon data to CSV\n",
    "amzn_csv_path = f'/Users/christinadarsi/Downloads/{STOCK_SYMBOL}_hourly_stock_data.csv'\n",
    "if not df_amzn.empty:\n",
    "    df_amzn.to_csv(amzn_csv_path)\n",
    "    print(f'Data saved to {STOCK_SYMBOL}_hourly_stock_data.csv')\n",
    "else:\n",
    "    print(\"Failed to fetch data or no data available for Amazon\")\n",
    "\n",
    "# List of additional stock symbols\n",
    "additional_symbols = ['AAPL', 'MSFT', 'GOOGL', 'META', 'WMT', 'BABA']\n",
    "close_dfs = []\n",
    "\n",
    "# Function to download and process stock data\n",
    "def download_and_process_data(symbol, start_date, end_date, interval='1h'):\n",
    "    df = yf.download(tickers=symbol, start=start_date, end=end_date, interval=interval)\n",
    "    if not df.empty:\n",
    "        df = df[['Close']].rename(columns={'Close': symbol})\n",
    "        return df\n",
    "    else:\n",
    "        print(f\"Failed to fetch data or no data available for {symbol}\")\n",
    "        return None\n",
    "\n",
    "# Download data for each additional symbol\n",
    "for symbol in additional_symbols:\n",
    "    df = download_and_process_data(symbol, START_DATE, END_DATE)\n",
    "    if df is not None:\n",
    "        close_dfs.append(df)\n",
    "\n",
    "# Combine all close value dataframes\n",
    "if close_dfs:\n",
    "    additional_close_df = pd.concat(close_dfs, axis=1)\n",
    "\n",
    "    # Merge the Amazon data with additional close values\n",
    "    merged_df = df_amzn.join(additional_close_df, how='left')\n",
    "\n",
    "    # Calculate technical indicators\n",
    "    merged_df['SMA_20'] = ta.sma(merged_df['Close'], length=20)\n",
    "    merged_df['SMA_50'] = ta.sma(merged_df['Close'], length=50)\n",
    "    merged_df['MACD'], merged_df['MACD_Signal'], merged_df['MACD_Hist'] = ta.macd(merged_df['Close'])\n",
    "    merged_df['RSI'] = ta.rsi(merged_df['Close'])\n",
    "    bbands = ta.bbands(merged_df['Close'], length=20)\n",
    "    merged_df = merged_df.join(bbands[['BBL_20_2.0', 'BBM_20_2.0', 'BBU_20_2.0']])\n",
    "\n",
    "    # Fetch economic indicators from FRED\n",
    "    fred = Fred(api_key=FRED_API_KEY)\n",
    "\n",
    "    # Interest Rates (e.g., Federal Funds Rate)\n",
    "    interest_rate = fred.get_series('FEDFUNDS', start_date=START_DATE, end_date=END_DATE)\n",
    "    interest_rate.index = interest_rate.index.tz_localize('UTC').tz_convert('America/New_York')\n",
    "    interest_rate = interest_rate.resample('H').ffill().reindex(merged_df.index, method='ffill')\n",
    "    merged_df['Interest_Rate'] = interest_rate\n",
    "\n",
    "    # Inflation Rate (e.g., CPI)\n",
    "    inflation_rate = fred.get_series('CPIAUCSL', start_date=START_DATE, end_date=END_DATE).pct_change() * 100\n",
    "    inflation_rate.index = inflation_rate.index.tz_localize('UTC').tz_convert('America/New_York')\n",
    "    inflation_rate = inflation_rate.resample('H').ffill().reindex(merged_df.index, method='ffill')\n",
    "    merged_df['Inflation_Rate'] = inflation_rate\n",
    "\n",
    "    # GDP Growth (e.g., Real GDP)\n",
    "    gdp_growth = fred.get_series('GDPC1', start_date=START_DATE, end_date=END_DATE).pct_change() * 100\n",
    "    gdp_growth.index = gdp_growth.index.tz_localize('UTC').tz_convert('America/New_York')\n",
    "    gdp_growth = gdp_growth.resample('H').ffill().reindex(merged_df.index, method='ffill')\n",
    "    merged_df['GDP_Growth'] = gdp_growth\n",
    "\n",
    "    # Unemployment Rate\n",
    "    unemployment_rate = fred.get_series('UNRATE', start_date=START_DATE, end_date=END_DATE)\n",
    "    unemployment_rate.index = unemployment_rate.index.tz_localize('UTC').tz_convert('America/New_York')\n",
    "    unemployment_rate = unemployment_rate.resample('H').ffill().reindex(merged_df.index, method='ffill')\n",
    "    merged_df['Unemployment_Rate'] = unemployment_rate\n",
    "\n",
    "    # Fetch company financials using yfinance\n",
    "    def fetch_company_financials(symbol):\n",
    "        ticker = yf.Ticker(symbol)\n",
    "        financials = ticker.financials\n",
    "        balance_sheet = ticker.balance_sheet\n",
    "        cashflow = ticker.cashflow\n",
    "        return financials, balance_sheet, cashflow\n",
    "\n",
    "    financials, balance_sheet, cashflow = fetch_company_financials(STOCK_SYMBOL)\n",
    "\n",
    "    # Extract relevant financial data\n",
    "    revenue = financials.loc['Total Revenue'].values[0]\n",
    "    net_income = financials.loc['Net Income'].values[0]\n",
    "    gross_profit = financials.loc['Gross Profit'].values[0]\n",
    "    total_debt = balance_sheet.loc['Total Liabilities Net Minority Interest'].values[0]\n",
    "    operating_cash_flow = cashflow.loc['Operating Cash Flow'].values[0]\n",
    "\n",
    "    # Add financial data to the merged dataframe\n",
    "    merged_df['Revenue'] = revenue\n",
    "    merged_df['Net_Income'] = net_income\n",
    "    merged_df['Gross_Profit'] = gross_profit\n",
    "    merged_df['Total_Debt'] = total_debt\n",
    "    merged_df['Operating_Cash_Flow'] = operating_cash_flow\n",
    "\n",
    "    # Save the merged dataframe with technical indicators, economic indicators, and financial data to CSV\n",
    "    merged_csv_path = f'/Users/christinadarsi/Downloads/merged_stock_data_with_indicators_economics_financials.csv'\n",
    "    merged_df.to_csv(merged_csv_path)\n",
    "    print(f\"Merged data with technical, economic, and financial indicators saved to {merged_csv_path}\")\n",
    "else:\n",
    "    print(\"No additional data was fetched to merge with Amazon data.\")\n",
    "\n",
    "\n",
    "\n",
    "\n",
    "\n",
    "\n",
    "\n"
   ]
  },
  {
   "cell_type": "code",
   "execution_count": null,
   "id": "035fa3ec",
   "metadata": {},
   "outputs": [],
   "source": []
  },
  {
   "cell_type": "code",
   "execution_count": null,
   "id": "c4c308b1",
   "metadata": {},
   "outputs": [],
   "source": []
  }
 ],
 "metadata": {
  "kernelspec": {
   "display_name": "Python 3 (ipykernel)",
   "language": "python",
   "name": "python3"
  },
  "language_info": {
   "codemirror_mode": {
    "name": "ipython",
    "version": 3
   },
   "file_extension": ".py",
   "mimetype": "text/x-python",
   "name": "python",
   "nbconvert_exporter": "python",
   "pygments_lexer": "ipython3",
   "version": "3.11.5"
  }
 },
 "nbformat": 4,
 "nbformat_minor": 5
}
