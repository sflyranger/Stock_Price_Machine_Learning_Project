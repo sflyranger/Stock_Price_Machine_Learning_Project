





import yfinance as yf
import pandas_ta as ta
import pandas as pd

# Dates
today = pd.Timestamp.today().strftime('%Y-%m-%d')
one_year_ago = (pd.Timestamp.today() - pd.DateOffset(years=1)).strftime('%Y-%m-%d')

# Ticker symbol
ticker = 'AMZN'

# Data Pull
hist_data = yf.download(ticker, start=one_year_ago, end=today)

# Ensure data is in a DataFrame with datetime index
df = pd.DataFrame(hist_data)
df.index = pd.to_datetime(df.index)  # Ensure datetime index


df





import matplotlib.pyplot as plt
%matplotlib inline

df['Adj Close'].plot()
plt.xlabel('Date')
plt.ylabel('Adj Close')
plt.show()





# Calculate Moving Averages
df.ta.sma(length=7, append=True)
df.ta.sma(length=14, append=True)
df.ta.sma(length=30, append=True)
df.ta.sma(length=50, append=True)
df.ta.sma(length=200, append=True)

# Calculate Bollinger Bands
df.ta.bbands(length=20, append=True)

# Calculate RSI
df.ta.rsi(length=14, append=True)

# Calculate MACD 
df.ta.macd(fast=12, slow=26, append=True)

print(df.tail())





import matplotlib.pyplot as plt
import seaborn as sns

sns.set_style('whitegrid')
plt.figure(figsize =(14,7))
# Moving Aveerages
plt.plot(df.index, df['Close'], label = 'Close Price', color = 'black')
plt.plot(df.index,df['SMA_7'],label = '7-Day SMA', color = 'green')
plt.plot(df.index, df['SMA_14'],label = '14-Day SMA',color = 'blue')
plt.plot(df.index, df['SMA_30'],label = '30-Day SMA', color = 'red')
plt.plot(df.index,df['SMA_50'], label = '50-Day SMA',color = 'purple')
plt.plot(df.index, df['SMA_200'], label = '200-Day SMA',color = 'orange')
# Bollinger Bands
plt.plot(df.index,df['BBU_20_2.0'],label = 'Upper Bollinger Band',color = 'cyan',linestyle = '--')
plt.plot(df.index,df['BBL_20_2.0'],label = 'Lower Bollinger Band',color = 'magenta',linestyle = '--')

plt.title('AMZN Stock Over The Past Year with Technical Indicators')
plt.xlabel('Date')
plt.ylabel('Closing Price')
plt.legend()
plt.show()



