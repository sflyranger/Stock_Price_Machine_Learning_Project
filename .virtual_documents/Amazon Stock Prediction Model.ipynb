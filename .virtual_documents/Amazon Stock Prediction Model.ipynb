





import yfinance as yf
import pandas_ta as ta
import pandas as pd
import numpy as np

# Dates
today = pd.Timestamp.today().strftime('%Y-%m-%d')
one_year_ago = (pd.Timestamp.today() - pd.DateOffset(years=1)).strftime('%Y-%m-%d')

# Ticker symbol
ticker = 'AMZN'

# Data Pull
hist_data = yf.download(ticker, start=one_year_ago, end=today)

# Ensure data is in a DataFrame with datetime index
df = pd.DataFrame(hist_data)
df.index = pd.to_datetime(df.index)  # Ensure datetime index


df





import matplotlib.pyplot as plt
%matplotlib inline

df['Adj Close'].plot()
plt.xlabel('Date')
plt.ylabel('Adj Close')
plt.show()





df.ta.indicators()


# Calculate Moving Averages
df.ta.sma(length=7, append=True)
df.ta.sma(length=14, append=True)
df.ta.sma(length=30, append=True)
df.ta.sma(length=50, append=True)
df.ta.sma(length=200, append=True)

# Calculate Bollinger Bands
df.ta.bbands(length=20, append=True)

# Calculate RSI
df.ta.rsi(length=14, append=True)

# Calculate MACD 
df.ta.macd(fast=12, slow=26, append=True)

print(df.tail())





import matplotlib.pyplot as plt
import seaborn as sns

sns.set_style('whitegrid')
plt.figure(figsize =(14,7))
# Moving Aveerages
plt.plot(df.index, df['Close'], label = 'Close Price', color = 'black')
plt.plot(df.index,df['SMA_7'],label = '7-Day SMA', color = 'green')
plt.plot(df.index, df['SMA_14'],label = '14-Day SMA',color = 'blue')
plt.plot(df.index, df['SMA_30'],label = '30-Day SMA', color = 'red')
plt.plot(df.index,df['SMA_50'], label = '50-Day SMA',color = 'purple')
plt.plot(df.index, df['SMA_200'], label = '200-Day SMA',color = 'orange')
# Bollinger Bands
plt.plot(df.index,df['BBU_20_2.0'],label = 'Upper Bollinger Band',color = 'cyan',linestyle = '--')
plt.plot(df.index,df['BBL_20_2.0'],label = 'Lower Bollinger Band',color = 'magenta',linestyle = '--')

plt.title('AMZN Stock Over The Past Year with Technical Indicators')
plt.xlabel('Date')
plt.ylabel('Closing Price')
plt.legend()
plt.show()





# Full technical indicators minus other previous additions
df.ta.aberration(inplace=True, append=True)
df.ta.above(inplace=True, append=True, length=10)
df.ta.above_value(inplace=True, append=True)
df.ta.accbands(inplace=True, append=True)
df.ta.ad(inplace=True, append=True)
df.ta.adosc(inplace=True, append=True, fast=3, slow=10)
df.ta.adx(inplace=True, append=True, length=14)
df.ta.alma(inplace=True, append=True, length=20, offset=0.85)
df.ta.amat(inplace=True, append=True, fast=10, slow=20)
df.ta.ao(inplace=True, append=True, fast=5, slow=34)
df.ta.aobv(inplace=True, append=True)
df.ta.apo(inplace=True, append=True, fast=12, slow=26)
df.ta.aroon(inplace=True, append=True, length=25)
df.ta.atr(inplace=True, append=True, length=14)
df.ta.below(inplace=True, append=True, length=10)
df.ta.below_value(inplace=True, append=True)
df.ta.bias(inplace=True, append=True, length=14)
df.ta.bop(inplace=True, append=True)
df.ta.brar(inplace=True, append=True)
df.ta.cci(inplace=True, append=True, length=20)
df.ta.cdl_pattern(inplace=True, append=True)
df.ta.cdl_z(inplace=True, append=True)
df.ta.cfo(inplace=True, append=True, length=10)
df.ta.cg(inplace=True, append=True)
df.ta.chop(inplace=True, append=True)
df.ta.cksp(inplace=True, append=True)
df.ta.cmf(inplace=True, append=True, length=20)
df.ta.cmo(inplace=True, append=True, length=14)
df.ta.coppock(inplace=True, append=True, fast=11, slow=14)
df.ta.cross(inplace=True, append=True)
df.ta.cross_value(inplace=True, append=True)
df.ta.cti(inplace=True, append=True)
df.ta.decay(inplace=True, append=True)
df.ta.decreasing(inplace=True, append=True)
df.ta.dema(inplace=True, append=True, length=10)
df.ta.dm(inplace=True, append=True)
df.ta.donchian(inplace=True, append=True, channels=20)
df.ta.dpo(inplace=True, append=True, length=10)
df.ta.ebsw(inplace=True, append=True, fast=5, slow=10)
df.ta.efi(inplace=True, append=True)
df.ta.ema(inplace=True, append=True, length=20)
df.ta.entropy(inplace=True, append=True)
df.ta.eom(inplace=True, append=True)
df.ta.er(inplace=True, append=True)
df.ta.eri(inplace=True, append=True)
df.ta.fisher(inplace=True, append=True)
df.ta.fwma(inplace=True, append=True, length=10)
df.ta.ha(inplace=True, append=True)
df.ta.hilo(inplace=True, append=True)
df.ta.hl2(inplace=True, append=True)
df.ta.hlc3(inplace=True, append=True)
df.ta.hma(inplace=True, append=True, length=20)
df.ta.hwc(inplace=True, append=True)
df.ta.hwma(inplace=True, append=True, length=15)
df.ta.ichimoku(inplace=True, append=True)
df.ta.increasing(inplace=True, append=True)
df.ta.inertia(inplace=True, append=True)
df.ta.jma(inplace=True, append=True, length=14)
df.ta.kama(inplace=True, append=True, length=10)
df.ta.kc(inplace=True, append=True)
df.ta.kdj(inplace=True, append=True)
df.ta.kst(inplace=True, append=True)
df.ta.kurtosis(inplace=True, append=True)
df.ta.kvo(inplace=True, append=True)
df.ta.linreg(inplace=True, append=True, length=20)
df.ta.log_return(inplace=True, append=True)
df.ta.long_run(inplace=True, append=True)
df.ta.mad(inplace=True, append=True, length=10)
df.ta.massi(inplace=True, append=True)
df.ta.mcgd(inplace=True, append=True)
df.ta.median(inplace=True, append=True)
df.ta.mfi(inplace=True, append=True, length=14)
df.ta.midpoint(inplace=True, append=True)
df.ta.midprice(inplace=True, append=True)
df.ta.mom(inplace=True, append=True, length=10)
df.ta.natr(inplace=True, append=True)
df.ta.nvi(inplace=True, append=True)
df.ta.obv(inplace=True, append=True)
df.ta.ohlc4(inplace=True, append=True)
df.ta.pdist(inplace=True, append=True)
df.ta.percent_return(inplace=True, append=True)
df.ta.pgo(inplace=True, append=True, length=14)
df.ta.ppo(inplace=True, append=True)
df.ta.psar(inplace=True, append=True)
df.ta.psl(inplace=True, append=True)
df.ta.pvi(inplace=True, append=True)
df.ta.pvo(inplace=True, append=True)
df.ta.pvol(inplace=True, append=True)
df.ta.pvr(inplace=True, append=True)
df.ta.pvt(inplace=True, append=True)
df.ta.pwma(inplace=True, append=True)
df.ta.qqe(inplace=True, append=True)
df.ta.qstick(inplace=True, append=True, length=10)
df.ta.quantile(inplace=True, append=True)
df.ta.rma(inplace=True, append=True, length=20)
df.ta.roc(inplace=True, append=True)
df.ta.rsx(inplace=True, append=True)
df.ta.rvgi(inplace=True, append=True)
df.ta.rvi(inplace=True, append=True)
df.ta.short_run(inplace=True, append=True)
df.ta.sinwma(inplace=True, append=True)
df.ta.skew(inplace=True, append=True)
df.ta.slope(inplace=True, append=True)
df.ta.ssf(inplace=True, append=True)
df.ta.stc(inplace=True, append=True)
df.ta.stdev(inplace=True, append=True, length=20)
df.ta.stoch(inplace=True, append=True)
df.ta.stochrsi(inplace=True, append=True)
df.ta.supertrend(inplace=True, append=True)
df.ta.swma(inplace=True, append=True, length=15)
df.ta.t3(inplace=True, append=True)
df.ta.td_seq(inplace=True, append=True)
df.ta.tema(inplace=True, append=True, length=20)
df.ta.thermo(inplace=True, append=True)
df.ta.tos_stdevall(inplace=True, append=True)
df.ta.trima(inplace=True, append=True, length=20)
df.ta.trix(inplace=True, append=True)
df.ta.true_range(inplace=True, append=True)
df.ta.tsi(inplace=True, append=True)
df.ta.tsignals(inplace=True, append=True)
df.ta.ttm_trend(inplace=True, append=True)
df.ta.ui(inplace=True, append=True)
df.ta.uo(inplace=True, append=True)
df.ta.variance(inplace=True, append=True)
df.ta.vhf(inplace=True, append=True)
df.ta.vidya(inplace=True, append=True)
df.ta.vortex(inplace=True, append=True)
df.ta.vp(inplace=True, append=True)
df.ta.vwap(inplace=True, append=True)
df.ta.vwma(inplace=True, append=True)
df.ta.wcp(inplace=True, append=True)
df.ta.willr(inplace=True, append=True)
df.ta.wma(inplace=True, append=True, length=10)
df.ta.xsignals(inplace=True, append=True)
df.ta.zlma(inplace=True, append=True, length=20)
df.ta.zscore(inplace=True, append=True)



